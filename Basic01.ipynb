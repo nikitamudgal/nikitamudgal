{
  "nbformat": 4,
  "nbformat_minor": 0,
  "metadata": {
    "colab": {
      "provenance": [],
      "authorship_tag": "ABX9TyPU5T6S5lrB+8BethUUQuS2",
      "include_colab_link": true
    },
    "kernelspec": {
      "name": "python3",
      "display_name": "Python 3"
    },
    "language_info": {
      "name": "python"
    }
  },
  "cells": [
    {
      "cell_type": "markdown",
      "metadata": {
        "id": "view-in-github",
        "colab_type": "text"
      },
      "source": [
        "<a href=\"https://colab.research.google.com/github/nikitamudgal/nikitamudgal/blob/main/Basic01.ipynb\" target=\"_parent\"><img src=\"https://colab.research.google.com/assets/colab-badge.svg\" alt=\"Open In Colab\"/></a>"
      ]
    },
    {
      "cell_type": "code",
      "execution_count": 4,
      "metadata": {
        "colab": {
          "base_uri": "https://localhost:8080/"
        },
        "id": "tdycVM9RaE98",
        "outputId": "4e54831c-0afe-4f6d-dbb1-891e42f3c64e"
      },
      "outputs": [
        {
          "output_type": "stream",
          "name": "stdout",
          "text": [
            "Enter your name Nikita\n",
            "Welcome Nikita Core python google colab online \n"
          ]
        }
      ],
      "source": [
        "nm=input(\"Enter your name \")\n",
        "print(f'Welcome {nm} Core python google colab online ')"
      ]
    },
    {
      "cell_type": "markdown",
      "source": [
        "**accept a number and display its** **square**"
      ],
      "metadata": {
        "id": "uRjksWvtbYtz"
      }
    },
    {
      "cell_type": "code",
      "source": [
        "n=int(input('Enter a number '))\n",
        "sq=n*n\n",
        "print(f'square of {n} is {sq}')\n",
        ""
      ],
      "metadata": {
        "colab": {
          "base_uri": "https://localhost:8080/"
        },
        "id": "plpnwxqua1dX",
        "outputId": "e8e181f2-eb5e-4e92-a372-c211615d55d4"
      },
      "execution_count": 6,
      "outputs": [
        {
          "output_type": "stream",
          "name": "stdout",
          "text": [
            "Enter a number 3\n",
            "square of 3 is 9\n"
          ]
        }
      ]
    },
    {
      "cell_type": "markdown",
      "source": [
        "**Accept number and make addition**"
      ],
      "metadata": {
        "id": "AYfAXGHmcCVv"
      }
    },
    {
      "cell_type": "code",
      "source": [
        "a=int(input('Enter first number'))\n",
        "b=int(input('Enter second number'))\n",
        "add=a+b\n",
        "print(f'The sum of number is {add}')"
      ],
      "metadata": {
        "colab": {
          "base_uri": "https://localhost:8080/"
        },
        "id": "GANozFuMcOWJ",
        "outputId": "541f618f-b696-4ae4-f439-ad65bb61396b"
      },
      "execution_count": 8,
      "outputs": [
        {
          "output_type": "stream",
          "name": "stdout",
          "text": [
            "Enter first number10\n",
            "Enter second number10\n",
            "The sum of number is 20\n"
          ]
        }
      ]
    },
    {
      "cell_type": "markdown",
      "source": [
        "**accept 2 float numbers and display their sum**\n",
        "\n",
        "\n"
      ],
      "metadata": {
        "id": "wKSMum5vdEod"
      }
    },
    {
      "cell_type": "code",
      "source": [
        "a=float(input('Enter first number '))\n",
        "b=float(input('Enter second number '))\n",
        "c=a+b\n",
        "print(f'sum of {a} and {b} is {c}')"
      ],
      "metadata": {
        "colab": {
          "base_uri": "https://localhost:8080/"
        },
        "id": "DwdMyhH8dOYm",
        "outputId": "5998913f-ea40-4043-8af0-5c3d401c8c80"
      },
      "execution_count": 9,
      "outputs": [
        {
          "output_type": "stream",
          "name": "stdout",
          "text": [
            "Enter first number 12.50\n",
            "Enter second number 12.3\n",
            "sum of 12.5 and 12.3 is 24.8\n"
          ]
        }
      ]
    },
    {
      "cell_type": "markdown",
      "source": [
        "**accept purchase amount and display the discount**"
      ],
      "metadata": {
        "id": "PFbImqv-dhk0"
      }
    },
    {
      "cell_type": "code",
      "source": [
        "amount=float(input('Enter purchase amount '))\n",
        "discount=amount*10/100\n",
        "print(f'discount on amount {amount} is {discount}')"
      ],
      "metadata": {
        "colab": {
          "base_uri": "https://localhost:8080/"
        },
        "id": "GnMg443vdkmR",
        "outputId": "83187c33-774e-419d-d594-3e53aade5c4c"
      },
      "execution_count": 11,
      "outputs": [
        {
          "output_type": "stream",
          "name": "stdout",
          "text": [
            "Enter purchase amount 2003\n",
            "discount on amount 2003.0 is 200.3\n"
          ]
        }
      ]
    },
    {
      "cell_type": "markdown",
      "source": [
        "**display electricity bill on the basic of units consumed**"
      ],
      "metadata": {
        "id": "Dixkgrggd3Th"
      }
    },
    {
      "cell_type": "code",
      "source": [
        "units=int(input('Enter units consumed '))\n",
        "rate=int(input('Rate per unit '))\n",
        "bill=units*rate\n",
        "print(f'Units : {units}')\n",
        "print(f'Rate : {rate}')\n",
        "print(f'Bill : Rs. {bill}')\n",
        ""
      ],
      "metadata": {
        "colab": {
          "base_uri": "https://localhost:8080/"
        },
        "id": "wU-HJiHzd0wg",
        "outputId": "2ee52571-fb7b-4eb2-d233-62240927cd9b"
      },
      "execution_count": 12,
      "outputs": [
        {
          "output_type": "stream",
          "name": "stdout",
          "text": [
            "Enter units consumed 200\n",
            "Rate per unit 25\n",
            "Units : 200\n",
            "Rate : 25\n",
            "Bill : Rs. 5000\n"
          ]
        }
      ]
    },
    {
      "cell_type": "markdown",
      "source": [],
      "metadata": {
        "id": "9568fYTPeSYX"
      }
    }
  ]
}