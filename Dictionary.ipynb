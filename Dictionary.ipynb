{
  "nbformat": 4,
  "nbformat_minor": 0,
  "metadata": {
    "colab": {
      "provenance": [],
      "authorship_tag": "ABX9TyNPPTJOz5LWdCAxzzgL5aV7",
      "include_colab_link": true
    },
    "kernelspec": {
      "name": "python3",
      "display_name": "Python 3"
    },
    "language_info": {
      "name": "python"
    }
  },
  "cells": [
    {
      "cell_type": "markdown",
      "metadata": {
        "id": "view-in-github",
        "colab_type": "text"
      },
      "source": [
        "<a href=\"https://colab.research.google.com/github/nikitamudgal/nikitamudgal/blob/Core-python/Dictionary.ipynb\" target=\"_parent\"><img src=\"https://colab.research.google.com/assets/colab-badge.svg\" alt=\"Open In Colab\"/></a>"
      ]
    },
    {
      "cell_type": "code",
      "execution_count": 2,
      "metadata": {
        "colab": {
          "base_uri": "https://localhost:8080/"
        },
        "id": "gHUbBepDfrGs",
        "outputId": "b68534b3-7f04-4ba0-cd45-ab873457256b"
      },
      "outputs": [
        {
          "output_type": "stream",
          "name": "stdout",
          "text": [
            "{'prafull', 'Sohamglobal'}\n",
            "<class 'set'>\n"
          ]
        }
      ],
      "source": [
        "S={\"prafull\",\"Sohamglobal\"}\n",
        "print(S)\n",
        "print(type(S))"
      ]
    },
    {
      "cell_type": "code",
      "source": [
        "dic={\n",
        "    \"custnm\":\"praffull\",\n",
        "    \"product\":\"laptop\",\n",
        "    \"model\":\"latitude 5490\",\n",
        "    \"company\":\"dell\",\n",
        "    \"price\":75000.00\n",
        "}\n",
        "print(dic)\n",
        "print(type(dic))\n",
        ""
      ],
      "metadata": {
        "colab": {
          "base_uri": "https://localhost:8080/"
        },
        "id": "Eetc9yRlhTAu",
        "outputId": "2dd7d155-5cff-4585-8023-522241a33535"
      },
      "execution_count": 15,
      "outputs": [
        {
          "output_type": "stream",
          "name": "stdout",
          "text": [
            "{'custnm': 'praffull', 'product': 'laptop', 'model': 'latitude 5490', 'company': 'dell', 'price': 75000.0}\n",
            "<class 'dict'>\n"
          ]
        }
      ]
    },
    {
      "cell_type": "code",
      "source": [
        "dic[\"custnm\"] = \"Nikita\"\n",
        "print(dic)"
      ],
      "metadata": {
        "colab": {
          "base_uri": "https://localhost:8080/"
        },
        "id": "OjWipgoah_K7",
        "outputId": "174ff561-0ac7-4903-aabd-63350b4d92cf"
      },
      "execution_count": 17,
      "outputs": [
        {
          "output_type": "stream",
          "name": "stdout",
          "text": [
            "{'custnm': 'Nikita', 'product': 'laptop', 'model': 'latitude 5490', 'company': 'dell', 'price': 75000.0}\n"
          ]
        }
      ]
    },
    {
      "cell_type": "code",
      "source": [
        "dic[\"custnm\"]=\"sharayu\"\n",
        "print(dic)"
      ],
      "metadata": {
        "colab": {
          "base_uri": "https://localhost:8080/"
        },
        "id": "f_6u1lu1jRo4",
        "outputId": "0acf3901-d16b-480e-a744-d837446214b7"
      },
      "execution_count": 18,
      "outputs": [
        {
          "output_type": "stream",
          "name": "stdout",
          "text": [
            "{'custnm': 'sharayu', 'product': 'laptop', 'model': 'latitude 5490', 'company': 'dell', 'price': 75000.0}\n"
          ]
        }
      ]
    },
    {
      "cell_type": "code",
      "source": [
        "dic[\"mfgyear\"]=2020\n",
        "print(dic)"
      ],
      "metadata": {
        "colab": {
          "base_uri": "https://localhost:8080/"
        },
        "id": "SPI3j1f1jd9l",
        "outputId": "b188bf25-b1b0-4080-c201-229ed71f4dda"
      },
      "execution_count": 19,
      "outputs": [
        {
          "output_type": "stream",
          "name": "stdout",
          "text": [
            "{'custnm': 'sharayu', 'product': 'laptop', 'model': 'latitude 5490', 'company': 'dell', 'price': 75000.0, 'mfgyear': 2020}\n"
          ]
        }
      ]
    },
    {
      "cell_type": "code",
      "source": [
        "dic['purchfor']=\"sharayu\"\n",
        "print(dic)"
      ],
      "metadata": {
        "colab": {
          "base_uri": "https://localhost:8080/"
        },
        "id": "n4lood7Jjnhw",
        "outputId": "24981eec-6c4c-4f38-edab-2dac1a9c64b9"
      },
      "execution_count": 20,
      "outputs": [
        {
          "output_type": "stream",
          "name": "stdout",
          "text": [
            "{'custnm': 'sharayu', 'product': 'laptop', 'model': 'latitude 5490', 'company': 'dell', 'price': 75000.0, 'mfgyear': 2020, 'purchfor': 'sharayu'}\n"
          ]
        }
      ]
    },
    {
      "cell_type": "code",
      "source": [
        "print(dic[\"model\"])"
      ],
      "metadata": {
        "colab": {
          "base_uri": "https://localhost:8080/"
        },
        "id": "px91Q1H-jviL",
        "outputId": "ab0ca632-afe1-4f7e-fd8e-71b5613ea480"
      },
      "execution_count": 21,
      "outputs": [
        {
          "output_type": "stream",
          "name": "stdout",
          "text": [
            "latitude 5490\n"
          ]
        }
      ]
    },
    {
      "cell_type": "code",
      "source": [
        "print(dic[\"company\"])"
      ],
      "metadata": {
        "colab": {
          "base_uri": "https://localhost:8080/"
        },
        "id": "pplxqlAejzyB",
        "outputId": "3577a762-5761-4851-a27e-2dcc50a811e2"
      },
      "execution_count": 22,
      "outputs": [
        {
          "output_type": "stream",
          "name": "stdout",
          "text": [
            "dell\n"
          ]
        }
      ]
    },
    {
      "cell_type": "code",
      "source": [
        "print(dic[\"purchfor\"])"
      ],
      "metadata": {
        "colab": {
          "base_uri": "https://localhost:8080/"
        },
        "id": "aBsRVwI1j2xZ",
        "outputId": "76bc3bf8-7676-4d7c-dadf-b4e4a3a898ca"
      },
      "execution_count": 23,
      "outputs": [
        {
          "output_type": "stream",
          "name": "stdout",
          "text": [
            "sharayu\n"
          ]
        }
      ]
    },
    {
      "cell_type": "code",
      "source": [
        "print(dic[\"product\"])"
      ],
      "metadata": {
        "colab": {
          "base_uri": "https://localhost:8080/"
        },
        "id": "j4dGaO_Cj_M6",
        "outputId": "1a935dc5-1a88-4138-8122-ce83a5f62cf2"
      },
      "execution_count": 24,
      "outputs": [
        {
          "output_type": "stream",
          "name": "stdout",
          "text": [
            "laptop\n"
          ]
        }
      ]
    },
    {
      "cell_type": "code",
      "source": [
        "print(dic[\"mfgyear\"])"
      ],
      "metadata": {
        "colab": {
          "base_uri": "https://localhost:8080/"
        },
        "id": "Rk1yr5J-kHVs",
        "outputId": "b2d1e3c1-3813-4e93-ac07-9cc90365e31e"
      },
      "execution_count": 26,
      "outputs": [
        {
          "output_type": "stream",
          "name": "stdout",
          "text": [
            "2020\n"
          ]
        }
      ]
    }
  ]
}